{
 "cells": [
  {
   "cell_type": "code",
   "execution_count": 2,
   "id": "8f982867",
   "metadata": {},
   "outputs": [],
   "source": [
    "\n",
    "import pandas as pd\n",
    "\n",
    "from my_module import clean_data, fetch_sdss_pixels, apply_pca_to_pixels\n",
    "\n",
    "df = pd.read_parquet('/Users/julia/Desktop/PythonBootcampGroup1/ZooSpexPhotoDR19_torradeflot.parquet')"
   ]
  },
  {
   "cell_type": "code",
   "execution_count": 5,
   "id": "03a21c27",
   "metadata": {},
   "outputs": [
    {
     "name": "stdout",
     "output_type": "stream",
     "text": [
      "⚠️ Error for objid 1.2376686230087273e+18: HTTP Error 404: NOT FOUND. Requested (ra, dec) is outside the SDSS footprint.\n"
     ]
    }
   ],
   "source": [
    "df_filtered = clean_data(df)\n",
    "\n",
    "df_sample = df_filtered.sample(n=5000, random_state=42)  # adjust number of samples as needed\n",
    "\n",
    "df_pixels = fetch_sdss_pixels(df_sample, max_workers=8, save_path=\"Pixels.csv\")\n",
    "\n",
    "df_final = apply_pca_to_pixels(\n",
    "    df_pixels,\n",
    "    df_sample,\n",
    "    n_components=100,\n",
    "    save_path=r\"data/PCA_Pixels.csv\"\n",
    ")"
   ]
  },
  {
   "cell_type": "code",
   "execution_count": null,
   "id": "550ab26c",
   "metadata": {},
   "outputs": [],
   "source": []
  }
 ],
 "metadata": {
  "kernelspec": {
   "display_name": "myenv",
   "language": "python",
   "name": "python3"
  },
  "language_info": {
   "codemirror_mode": {
    "name": "ipython",
    "version": 3
   },
   "file_extension": ".py",
   "mimetype": "text/x-python",
   "name": "python",
   "nbconvert_exporter": "python",
   "pygments_lexer": "ipython3",
   "version": "3.11.13"
  }
 },
 "nbformat": 4,
 "nbformat_minor": 5
}
