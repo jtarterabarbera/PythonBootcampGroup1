{
 "cells": [
  {
   "cell_type": "code",
   "execution_count": 1,
   "id": "8f982867",
   "metadata": {},
   "outputs": [],
   "source": [
    "\n",
    "import pandas as pd\n",
    "\n",
    "from my_module import clean_data, fetch_sdss_pixels, apply_pca_to_pixels\n",
    "\n",
    "df = pd.read_parquet('ZooSpexPhotoDR19_torradeflot.parquet')"
   ]
  },
  {
   "cell_type": "code",
   "execution_count": null,
   "id": "03a21c27",
   "metadata": {},
   "outputs": [
    {
     "name": "stdout",
     "output_type": "stream",
     "text": [
      "⚠️ Error for objid 1.23767112536916e+18: <urlopen error [Errno 60] Operation timed out>⚠️ Error for objid 1.237658613590131e+18: <urlopen error [Errno 60] Operation timed out>\n",
      "\n",
      "⚠️ Error for objid 1.2376642920746844e+18: <urlopen error [Errno 60] Operation timed out>\n",
      "⚠️ Error for objid 1.2376606708938179e+18: <urlopen error [Errno 60] Operation timed out>⚠️ Error for objid 1.2376591542161902e+18: <urlopen error [Errno 60] Operation timed out>\n",
      "\n",
      "⚠️ Error for objid 1.2376622251278994e+18: <urlopen error [Errno 60] Operation timed out>\n",
      "⚠️ Error for objid 1.2376619706434194e+18: <urlopen error [Errno 60] Operation timed out>\n",
      "⚠️ Error for objid 1.2376562411691052e+18: <urlopen error [Errno 60] Operation timed out>\n",
      "⚠️ Error for objid 1.2376618112020644e+18: <urlopen error [Errno 60] Operation timed out>\n",
      "⚠️ Error for objid 1.2376610687210621e+18: <urlopen error [Errno 60] Operation timed out>\n",
      "⚠️ Error for objid 1.2376554739689068e+18: <urlopen error [Errno 60] Operation timed out>\n",
      "⚠️ Error for objid 1.237661949705716e+18: <urlopen error [Errno 60] Operation timed out>⚠️ Error for objid 1.2376487222883126e+18: <urlopen error [Errno 60] Operation timed out>\n",
      "\n"
     ]
    }
   ],
   "source": [
    "df_filtered = clean_data(df)\n",
    "\n",
    "df_sample = df_filtered.sample(n=1000, random_state=42)  # adjust number of samples as needed\n",
    "\n",
    "df_pixels = fetch_sdss_pixels(df_sample, max_workers=8, save_path=\"Pixels.csv\")\n",
    "\n",
    "\n",
    "df_final = apply_pca_to_pixels(df_pixels, df_sample,\n",
    "                               n_components=100,\n",
    "                               save_path=\"PCA_Pixels.csv\")"
   ]
  }
 ],
 "metadata": {
  "kernelspec": {
   "display_name": "myenv",
   "language": "python",
   "name": "python3"
  },
  "language_info": {
   "codemirror_mode": {
    "name": "ipython",
    "version": 3
   },
   "file_extension": ".py",
   "mimetype": "text/x-python",
   "name": "python",
   "nbconvert_exporter": "python",
   "pygments_lexer": "ipython3",
   "version": "3.11.13"
  }
 },
 "nbformat": 4,
 "nbformat_minor": 5
}
