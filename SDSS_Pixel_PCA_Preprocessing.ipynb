{
 "cells": [
  {
   "cell_type": "code",
   "execution_count": 2,
   "id": "8f982867",
   "metadata": {},
   "outputs": [],
   "source": [
    "\n",
    "import pandas as pd\n",
    "\n",
    "from my_module import fetch_sdss_pixels, apply_pca_to_pixels, fetch_sdss_pixels_version2\n",
    "\n",
    "\n",
    "df = pd.read_csv('data/MergedZooSpecPhotoDR19.csv')"
   ]
  },
  {
   "cell_type": "code",
   "execution_count": 3,
   "id": "03a21c27",
   "metadata": {},
   "outputs": [
    {
     "name": "stdout",
     "output_type": "stream",
     "text": [
      "⚠️ objid 1.237653441911718e+18, attempt 1/3 failed: HTTP Error 500: Internal Server Error⚠️ objid 1.2376794549256195e+18, attempt 1/3 failed: HTTP Error 500: Internal Server Error\n",
      "⚠️ objid 1.237654030862123e+18, attempt 1/3 failed: HTTP Error 500: Internal Server Error\n",
      "⚠️ objid 1.2376529485275464e+18, attempt 1/3 failed: HTTP Error 500: Internal Server Error\n",
      "\n",
      "⚠️ objid 1.237653441911718e+18, attempt 2/3 failed: HTTP Error 503: Service Unavailable⚠️ objid 1.237654030862123e+18, attempt 2/3 failed: HTTP Error 503: Service Unavailable\n",
      "\n",
      "⚠️ objid 1.2376529485275464e+18, attempt 2/3 failed: HTTP Error 503: Service Unavailable\n",
      "⚠️ objid 1.2376794549256195e+18, attempt 2/3 failed: HTTP Error 503: Service Unavailable\n",
      "⚠️ objid 1.237654030862123e+18, attempt 3/3 failed: HTTP Error 503: Service Unavailable\n",
      "⚠️ objid 1.237653441911718e+18, attempt 3/3 failed: HTTP Error 503: Service Unavailable\n",
      "⚠️ objid 1.2376794549256195e+18, attempt 3/3 failed: HTTP Error 503: Service Unavailable\n",
      "⚠️ objid 1.2376529485275464e+18, attempt 3/3 failed: HTTP Error 503: Service Unavailable\n",
      "⚠️ objid 1.2376578571424236e+18, attempt 1/3 failed: HTTP Error 503: Service Unavailable\n",
      "⚠️ objid 1.2376709557152648e+18, attempt 1/3 failed: HTTP Error 503: Service Unavailable\n",
      "⚠️ objid 1.2376651805983378e+18, attempt 1/3 failed: HTTP Error 503: Service Unavailable\n",
      "⚠️ objid 1.237655129836749e+18, attempt 1/3 failed: HTTP Error 503: Service Unavailable\n",
      "⚠️ objid 1.2376578571424236e+18, attempt 2/3 failed: HTTP Error 503: Service Unavailable⚠️ objid 1.2376709557152648e+18, attempt 2/3 failed: HTTP Error 503: Service Unavailable\n",
      "\n",
      "⚠️ objid 1.2376651805983378e+18, attempt 2/3 failed: HTTP Error 503: Service Unavailable\n",
      "⚠️ objid 1.237655129836749e+18, attempt 2/3 failed: HTTP Error 503: Service Unavailable\n",
      "⚠️ objid 1.2376709557152648e+18, attempt 3/3 failed: HTTP Error 503: Service Unavailable⚠️ objid 1.237655129836749e+18, attempt 3/3 failed: HTTP Error 503: Service Unavailable\n",
      "\n",
      "⚠️ objid 1.2376651805983378e+18, attempt 3/3 failed: HTTP Error 503: Service Unavailable\n",
      "⚠️ objid 1.2376578571424236e+18, attempt 3/3 failed: HTTP Error 503: Service Unavailable\n",
      "⚠️ objid 1.2376583032762534e+18, attempt 1/3 failed: HTTP Error 503: Service Unavailable\n",
      "⚠️ objid 1.2376528991337843e+18, attempt 1/3 failed: HTTP Error 503: Service Unavailable\n",
      "⚠️ objid 1.2376583032762534e+18, attempt 2/3 failed: HTTP Error 500: Internal Server Error\n",
      "⚠️ objid 1.2376528991337843e+18, attempt 2/3 failed: HTTP Error 500: Internal Server Error\n",
      "⚠️ objid 1.2376528991337843e+18, attempt 3/3 failed: HTTP Error 500: Internal Server Error\n",
      "⚠️ objid 1.2376583032762534e+18, attempt 3/3 failed: HTTP Error 500: Internal Server Error\n"
     ]
    },
    {
     "ename": "TypeError",
     "evalue": "apply_pca_to_pixels() got multiple values for argument 'n_components'",
     "output_type": "error",
     "traceback": [
      "\u001b[31m---------------------------------------------------------------------------\u001b[39m",
      "\u001b[31mTypeError\u001b[39m                                 Traceback (most recent call last)",
      "\u001b[36mCell\u001b[39m\u001b[36m \u001b[39m\u001b[32mIn[3]\u001b[39m\u001b[32m, line 6\u001b[39m\n\u001b[32m      3\u001b[39m \u001b[38;5;66;03m#df_pixels = fetch_sdss_pixels(df_sample, max_workers=8, save_path=\"Pixels.csv\")\u001b[39;00m\n\u001b[32m      4\u001b[39m df_pixels = fetch_sdss_pixels_version2(df_sample)\n\u001b[32m----> \u001b[39m\u001b[32m6\u001b[39m df_final = \u001b[43mapply_pca_to_pixels\u001b[49m\u001b[43m(\u001b[49m\n\u001b[32m      7\u001b[39m \u001b[43m    \u001b[49m\u001b[43mdf_pixels\u001b[49m\u001b[43m,\u001b[49m\n\u001b[32m      8\u001b[39m \u001b[43m    \u001b[49m\u001b[43mdf_sample\u001b[49m\u001b[43m,\u001b[49m\n\u001b[32m      9\u001b[39m \u001b[43m    \u001b[49m\u001b[43mn_components\u001b[49m\u001b[43m=\u001b[49m\u001b[32;43m100\u001b[39;49m\u001b[43m,\u001b[49m\n\u001b[32m     10\u001b[39m \u001b[43m    \u001b[49m\u001b[43msave_path\u001b[49m\u001b[43m=\u001b[49m\u001b[33;43mr\u001b[39;49m\u001b[33;43m\"\u001b[39;49m\u001b[33;43mdata/PCA_Pixels.csv\u001b[39;49m\u001b[33;43m\"\u001b[39;49m\n\u001b[32m     11\u001b[39m \u001b[43m)\u001b[49m\n",
      "\u001b[31mTypeError\u001b[39m: apply_pca_to_pixels() got multiple values for argument 'n_components'"
     ]
    }
   ],
   "source": [
    "\n",
    "df_sample = df.sample(n=10, random_state=42)  # adjust number of samples as needed\n",
    "\n",
    "#df_pixels = fetch_sdss_pixels(df_sample, max_workers=8, save_path=\"Pixels.csv\")\n",
    "df_pixels = fetch_sdss_pixels_version2(df_sample)\n",
    "\n",
    "df_final = apply_pca_to_pixels(\n",
    "    df_pixels,\n",
    "    df_sample,\n",
    "    n_components=100,\n",
    "    save_path=r\"data/PCA_Pixels.csv\"\n",
    ")"
   ]
  },
  {
   "cell_type": "code",
   "execution_count": null,
   "id": "550ab26c",
   "metadata": {},
   "outputs": [],
   "source": [
    "    # To merge PCA results with filtered metadata\n",
    "df_final = pd.merge(df_filtered, df_pca, on=\"objid\", how=\"inner\")\n",
    "\n",
    "    # Saving\n",
    "if save_path:\n",
    "        df_final.to_csv(save_path, index=False)"
   ]
  }
 ],
 "metadata": {
  "kernelspec": {
   "display_name": "myenv",
   "language": "python",
   "name": "python3"
  },
  "language_info": {
   "codemirror_mode": {
    "name": "ipython",
    "version": 3
   },
   "file_extension": ".py",
   "mimetype": "text/x-python",
   "name": "python",
   "nbconvert_exporter": "python",
   "pygments_lexer": "ipython3",
   "version": "3.11.13"
  }
 },
 "nbformat": 4,
 "nbformat_minor": 5
}
