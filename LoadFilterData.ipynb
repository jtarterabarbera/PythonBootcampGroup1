{
 "cells": [
  {
   "cell_type": "markdown",
   "id": "c4bce45b",
   "metadata": {},
   "source": [
    "# Data Retrieval and filtering"
   ]
  },
  {
   "cell_type": "code",
   "execution_count": 1,
   "id": "a08d1f4d",
   "metadata": {},
   "outputs": [],
   "source": [
    "import pandas as pd\n",
    "from my_module import load_TAP_data_parallel, clean_data\n",
    "from astroquery.utils.tap.core import TapPlus  # library to query astronomical databases, TAP services"
   ]
  },
  {
   "cell_type": "code",
   "execution_count": null,
   "id": "ae47b2f4",
   "metadata": {},
   "outputs": [
    {
     "name": "stdout",
     "output_type": "stream",
     "text": [
      "Fetched slice RA 3.0–6.0 (1839 rows)\n",
      "Fetched slice RA 0.0–3.0 (1972 rows)\n",
      "Fetched slice RA 12.0–15.0 (2000 rows)\n",
      "Fetched slice RA 6.0–9.0 (1622 rows)\n",
      "Fetched slice RA 9.0–12.0 (1955 rows)\n",
      "Fetched slice RA 21.0–24.0 (1556 rows)\n",
      "Fetched slice RA 15.0–18.0 (2000 rows)\n",
      "Fetched slice RA 18.0–21.0 (2000 rows)\n",
      "Fetched slice RA 24.0–27.0 (1968 rows)\n",
      "Fetched slice RA 27.0–30.0 (1997 rows)\n",
      "Fetched slice RA 33.0–36.0 (1030 rows)\n",
      "Fetched slice RA 39.0–42.0 (861 rows)\n",
      "Fetched slice RA 42.0–45.0 (919 rows)\n",
      "Fetched slice RA 36.0–39.0 (921 rows)\n",
      "Fetched slice RA 48.0–51.0 (867 rows)\n",
      "Fetched slice RA 66.0–69.0 (0 rows)\n",
      "Fetched slice RA 63.0–66.0 (23 rows)\n",
      "Fetched slice RA 51.0–54.0 (1093 rows)\n",
      "Fetched slice RA 30.0–33.0 (1624 rows)\n",
      "Fetched slice RA 69.0–72.0 (0 rows)\n",
      "Fetched slice RA 72.0–75.0 (0 rows)\n",
      "Fetched slice RA 60.0–63.0 (418 rows)\n",
      "Fetched slice RA 54.0–57.0 (891 rows)\n",
      "Fetched slice RA 45.0–48.0 (1084 rows)\n",
      "Fetched slice RA 75.0–78.0 (0 rows)\n",
      "Fetched slice RA 78.0–81.0 (0 rows)\n",
      "Fetched slice RA 57.0–60.0 (915 rows)\n",
      "Fetched slice RA 84.0–87.0 (0 rows)\n",
      "Fetched slice RA 81.0–84.0 (0 rows)\n",
      "Fetched slice RA 90.0–93.0 (0 rows)\n",
      "Fetched slice RA 87.0–90.0 (0 rows)\n",
      "Fetched slice RA 93.0–96.0 (0 rows)\n",
      "Fetched slice RA 99.0–102.0 (0 rows)\n",
      "Fetched slice RA 96.0–99.0 (0 rows)\n",
      "Fetched slice RA 102.0–105.0 (0 rows)\n",
      "Fetched slice RA 105.0–108.0 (0 rows)\n",
      "Fetched slice RA 108.0–111.0 (211 rows)\n",
      "Fetched slice RA 129.0–132.0 (2000 rows)\n",
      "Fetched slice RA 126.0–129.0 (2000 rows)\n",
      "Fetched slice RA 117.0–120.0 (2000 rows)\n",
      "Fetched slice RA 114.0–117.0 (2000 rows)\n",
      "Fetched slice RA 123.0–126.0 (2000 rows)\n",
      "Fetched slice RA 111.0–114.0 (2000 rows)\n",
      "Fetched slice RA 120.0–123.0 (2000 rows)\n",
      "Fetched slice RA 138.0–141.0 (2000 rows)\n",
      "Fetched slice RA 141.0–144.0 (2000 rows)\n",
      "Fetched slice RA 132.0–135.0 (2000 rows)\n",
      "Fetched slice RA 135.0–138.0 (2000 rows)\n",
      "Fetched slice RA 150.0–153.0 (2000 rows)\n",
      "Fetched slice RA 144.0–147.0 (2000 rows)\n",
      "Fetched slice RA 147.0–150.0 (2000 rows)\n",
      "Fetched slice RA 153.0–156.0 (2000 rows)\n",
      "Fetched slice RA 165.0–168.0 (2000 rows)\n",
      "Fetched slice RA 159.0–162.0 (2000 rows)\n",
      "Fetched slice RA 168.0–171.0 (2000 rows)\n",
      "Fetched slice RA 162.0–165.0 (2000 rows)\n",
      "Fetched slice RA 177.0–180.0 (2000 rows)\n",
      "Fetched slice RA 171.0–174.0 (2000 rows)\n",
      "Fetched slice RA 156.0–159.0 (2000 rows)\n",
      "Fetched slice RA 183.0–186.0 (2000 rows)\n",
      "Fetched slice RA 180.0–183.0 (2000 rows)\n",
      "Fetched slice RA 174.0–177.0 (2000 rows)\n",
      "Fetched slice RA 186.0–189.0 (2000 rows)\n",
      "Fetched slice RA 195.0–198.0 (2000 rows)\n",
      "Fetched slice RA 204.0–207.0 (2000 rows)\n",
      "Fetched slice RA 192.0–195.0 (2000 rows)\n",
      "Fetched slice RA 189.0–192.0 (2000 rows)\n",
      "Fetched slice RA 210.0–213.0 (2000 rows)\n",
      "Fetched slice RA 207.0–210.0 (2000 rows)\n",
      "Fetched slice RA 198.0–201.0 (2000 rows)\n",
      "Fetched slice RA 213.0–216.0 (2000 rows)\n",
      "Fetched slice RA 216.0–219.0 (2000 rows)\n",
      "Fetched slice RA 201.0–204.0 (2000 rows)\n",
      "Fetched slice RA 231.0–234.0 (2000 rows)\n",
      "Fetched slice RA 228.0–231.0 (2000 rows)\n",
      "Fetched slice RA 222.0–225.0 (2000 rows)\n",
      "Fetched slice RA 240.0–243.0 (2000 rows)\n",
      "Fetched slice RA 219.0–222.0 (2000 rows)\n",
      "Fetched slice RA 237.0–240.0 (2000 rows)\n",
      "Fetched slice RA 249.0–252.0 (2000 rows)\n",
      "Fetched slice RA 234.0–237.0 (2000 rows)\n",
      "Fetched slice RA 246.0–249.0 (2000 rows)\n",
      "Fetched slice RA 243.0–246.0 (2000 rows)\n",
      "Fetched slice RA 225.0–228.0 (2000 rows)\n",
      "Fetched slice RA 270.0–273.0 (0 rows)\n",
      "Fetched slice RA 273.0–276.0 (0 rows)\n",
      "Fetched slice RA 264.0–267.0 (328 rows)\n",
      "Fetched slice RA 267.0–270.0 (0 rows)\n",
      "Fetched slice RA 276.0–279.0 (0 rows)\n",
      "Fetched slice RA 279.0–282.0 (0 rows)\n",
      "Fetched slice RA 282.0–285.0 (0 rows)\n",
      "Fetched slice RA 285.0–288.0 (0 rows)\n",
      "Fetched slice RA 261.0–264.0 (1069 rows)\n",
      "Fetched slice RA 258.0–261.0 (2000 rows)\n",
      "Fetched slice RA 288.0–291.0 (0 rows)\n",
      "Fetched slice RA 255.0–258.0 (2000 rows)\n",
      "Fetched slice RA 291.0–294.0 (0 rows)\n",
      "Fetched slice RA 252.0–255.0 (2000 rows)\n",
      "Fetched slice RA 294.0–297.0 (0 rows)\n",
      "Fetched slice RA 297.0–300.0 (0 rows)\n",
      "Fetched slice RA 300.0–303.0 (0 rows)\n",
      "Fetched slice RA 303.0–306.0 (0 rows)\n",
      "Fetched slice RA 306.0–309.0 (32 rows)\n",
      "Fetched slice RA 309.0–312.0 (713 rows)\n",
      "Fetched slice RA 312.0–315.0 (1052 rows)\n",
      "Fetched slice RA 318.0–321.0 (1516 rows)\n",
      "Fetched slice RA 315.0–318.0 (1551 rows)\n",
      "Fetched slice RA 327.0–330.0 (1758 rows)\n",
      "Fetched slice RA 324.0–327.0 (1954 rows)\n",
      "Fetched slice RA 333.0–336.0 (1859 rows)\n",
      "Fetched slice RA 321.0–324.0 (1913 rows)\n",
      "Fetched slice RA 330.0–333.0 (1689 rows)\n",
      "Fetched slice RA 342.0–345.0 (1810 rows)\n",
      "Fetched slice RA 339.0–342.0 (1678 rows)\n",
      "Fetched slice RA 336.0–339.0 (1798 rows)\n",
      "Fetched slice RA 357.0–360.0 (1893 rows)\n",
      "Fetched slice RA 345.0–348.0 (1696 rows)\n",
      "Fetched slice RA 348.0–351.0 (1604 rows)\n",
      "Fetched slice RA 354.0–357.0 (1660 rows)\n",
      "Fetched slice RA 351.0–354.0 (1760 rows)\n"
     ]
    }
   ],
   "source": [
    "df = load_TAP_data_parallel(URL=\"http://tap.roe.ac.uk/ssa\", ra_slices=120, max_workers=8)\n"
   ]
  },
  {
   "cell_type": "code",
   "execution_count": 6,
   "id": "0e86d206",
   "metadata": {},
   "outputs": [],
   "source": [
    "df.to_csv('data/MergedZooSpecPhotoDR19.csv', index=False)"
   ]
  },
  {
   "cell_type": "code",
   "execution_count": 4,
   "id": "9e0db20b",
   "metadata": {},
   "outputs": [
    {
     "name": "stdout",
     "output_type": "stream",
     "text": [
      "Cleaned data: 15582 rows remain (from 159099 original).\n"
     ]
    }
   ],
   "source": [
    "df = pd.read_csv('data/MergedZooSpecPhotoDR19.csv')\n",
    "\n",
    "df_filtered = clean_data(df)\n",
    "\n",
    "df_filtered.to_csv('data/FilteredZooSpecPhotoDR19.csv', index=False)"
   ]
  },
  {
   "cell_type": "markdown",
   "id": "fa78f594",
   "metadata": {},
   "source": []
  }
 ],
 "metadata": {
  "kernelspec": {
   "display_name": "myenv",
   "language": "python",
   "name": "python3"
  },
  "language_info": {
   "codemirror_mode": {
    "name": "ipython",
    "version": 3
   },
   "file_extension": ".py",
   "mimetype": "text/x-python",
   "name": "python",
   "nbconvert_exporter": "python",
   "pygments_lexer": "ipython3",
   "version": "3.11.13"
  }
 },
 "nbformat": 4,
 "nbformat_minor": 5
}
