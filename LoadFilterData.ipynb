{
 "cells": [
  {
   "cell_type": "markdown",
   "id": "c4bce45b",
   "metadata": {},
   "source": [
    "# Data Retrieval and filtering"
   ]
  },
  {
   "cell_type": "code",
   "execution_count": 1,
   "id": "ae47b2f4",
   "metadata": {},
   "outputs": [],
   "source": [
    "import pandas as pd\n",
    "from my_module import load_TAP_data, clean_data, load_TAP_data_simpler\n",
    "from astroquery.utils.tap.core import TapPlus  # library to query astronomical databases, TAP services\n",
    "\n",
    "\n",
    "df =  load_TAP_data_simpler(\"http://tap.roe.ac.uk/ssa\", ra_slices=100, max_workers=4)\n",
    "\n",
    "df_filtered = clean_data(df)\n"
   ]
  },
  {
   "cell_type": "code",
   "execution_count": 2,
   "id": "08b89543",
   "metadata": {},
   "outputs": [
    {
     "data": {
      "text/plain": [
       "(138960, 473)"
      ]
     },
     "execution_count": 2,
     "metadata": {},
     "output_type": "execute_result"
    }
   ],
   "source": [
    "df_filtered.to_csv('data/MergedZooSpecPhotoDR19.csv', index=False)\n",
    "df.shape"
   ]
  },
  {
   "cell_type": "markdown",
   "id": "fa78f594",
   "metadata": {},
   "source": []
  }
 ],
 "metadata": {
  "kernelspec": {
   "display_name": "myenv",
   "language": "python",
   "name": "python3"
  },
  "language_info": {
   "codemirror_mode": {
    "name": "ipython",
    "version": 3
   },
   "file_extension": ".py",
   "mimetype": "text/x-python",
   "name": "python",
   "nbconvert_exporter": "python",
   "pygments_lexer": "ipython3",
   "version": "3.11.13"
  }
 },
 "nbformat": 4,
 "nbformat_minor": 5
}
